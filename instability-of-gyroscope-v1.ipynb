{
 "cells": [
  {
   "cell_type": "code",
   "execution_count": null,
   "metadata": {},
   "outputs": [],
   "source": [
    "import sympy.physics.mechanics as me\n",
    "import sympy as sm\n",
    "from scipy.integrate import solve_ivp\n",
    "import numpy as np\n",
    "import matplotlib.pyplot as plt\n",
    "%matplotlib inline\n",
    "import matplotlib\n",
    "import matplotlib\n",
    "import time\n",
    "import pythreejs as p3js"
   ]
  },
  {
   "cell_type": "markdown",
   "metadata": {},
   "source": [
    "The rotation of a rigid body around its axis of smallest inertia is known to be unstable. I want to show this\n",
    "'experimentally'. As I want this to take place in 'outer space', I will set g = 0 in the\n",
    "calculations.\n",
    "The 'main' rotatation is about the Y axis. Small disturbances ( = rotations about the X, Z axis) will\n",
    "cause the gyroscope to tumble in space.\n",
    "Additionally, I want to see the accelerations an observer on the body would experience.\n",
    "\n",
    "**Variables**\n",
    "- $N$     inertial frame\n",
    "- $P_0$   point fixed in the reference frame\n",
    "- $A$     frame fixed to body of gyroscope\n",
    "- $m_c$     mass of gyroscope, modelled as a rod\n",
    "- $m_o$     mass of the observer, a particle\n",
    "- $l$      length of gyroscope\n",
    "- $r$      radius of gyroscope\n",
    "- $i_{XX}, i_{YY}, i_{ZZ}$  moments of inertia\n",
    "- $reibung$     friction"
   ]
  },
  {
   "cell_type": "code",
   "execution_count": null,
   "metadata": {},
   "outputs": [],
   "source": [
    "start = time.time()\n",
    "\n",
    "mc, mo, g, l, r, iXX, iYY, iZZ, reibung = sm.symbols('mc, mo, g, l, r, iXX, iYY, iZZ, reibung')\n",
    "t = sm.symbols('t')\n",
    "\n",
    "# this is used to calculate the accelerations below.\n",
    "RHS = [*[sm.symbols('rhs' + str(i)) for i in range(12)]]\n",
    "\n",
    "# Geometry\n",
    "q1, q2, q3 = me.dynamicsymbols('q1, q2, q3')     # rotation of the gyroscope\n",
    "u1, u2, u3 = me.dynamicsymbols('u1, u2, u3')\n",
    "\n",
    "x, y, z = me.dynamicsymbols('x, y, z')           # coordinates of the center of gravity of the gyroscope\n",
    "ux, uy, uz = me.dynamicsymbols('ux, uy, uz')\n",
    " \n",
    "N = me.ReferenceFrame('N')                       # inertial frame\n",
    "A = me.ReferenceFrame('A')                       # frame in which the gyroscpoe is located\n",
    "P0 = me.Point('P0')\n",
    "Dmc = me.Point('Dmc')                            # geometric center of gyroscope\n",
    "P2 = me.Point('P2')                              # location of the observer\n",
    "\n",
    "P0.set_vel(N, 0)\n",
    "\n",
    "Dmc.set_pos(P0, x*N.x + y*N.y + z*N.z)           # center of mass of the gyroscope \n",
    "Dmc.set_vel(N, ux*N.x + uy*N.y + uz*N.z)\n",
    "\n",
    "A.orient_body_fixed(N, (q1, q2, q3), '123')\n",
    "rot = A.ang_vel_in(N)                            # rot, rot1 needed for kinematic equations"
   ]
  },
  {
   "cell_type": "markdown",
   "metadata": {},
   "source": [
    "It is important, that in A.set_ang_vel(N, u1 * **A.x** + u2 * **A.y** + u3 * **A.z**) the frame **A** be used to define the $u_i$. \n",
    "if N was used here and further down for the kinematic equations, the mass matrix and force vector become very large: Selecting the 'wrong' frame increases the number of operations\n",
    "- in MM from 314 to approximately 2,500 !\n",
    "- in force from 485 to approximately 290,000 !\n",
    "\n",
    "This is no problem in this small simulation, but it can become decisive in larger ones."
   ]
  },
  {
   "cell_type": "code",
   "execution_count": null,
   "metadata": {},
   "outputs": [],
   "source": [
    "A.set_ang_vel(N, u1*A.x + u2*A.y + u3*A.z)\n",
    "rot1 =A.ang_vel_in(N)\n",
    "                                                \n",
    "P2 = Dmc.locatenew('P2', l/sm.S(2.)*A.y + r*A.z)            # Observer, mass mo\n",
    "P2.v2pt_theory(Dmc, N, A)\n",
    "\n",
    "I = me.inertia(A, iXX, iYY, iZZ)                                              \n",
    "Body = me.RigidBody('Body', Dmc, A, mc, (I, Dmc))           # gyroscope\n",
    "P2a = me.Particle('P2a', P2, mo)                            # observer\n",
    "BODY =[Body, P2a]"
   ]
  },
  {
   "cell_type": "markdown",
   "metadata": {},
   "source": [
    "**Kane's formalism**.\n",
    "\n",
    "It is important, that in kd = [me.dot(rot-rot1, uv) for uv in **A**] + ... the frame **A** be used. If N is used, the force vector will become large. \n",
    "\n",
    "Note, that in acc_P2 = P2.vel(N).diff(t, **A**) one has to indicate, w.r.t. which frame one wants to differentiate. As I want to see the acceleration felt by an observer sitting on the gyroscope, I differentia w.r.t. frame A\n"
   ]
  },
  {
   "cell_type": "code",
   "execution_count": null,
   "metadata": {},
   "outputs": [],
   "source": [
    "# 1. kinematic equations\n",
    "kd = [me.dot(rot-rot1, uv) for uv in A] + [x.diff(t) - ux, y.diff(t) - uy, z.diff(t) - uz]\n",
    "\n",
    "# 2. Forces, torques acting on the bodx\n",
    "FL1 = [(Dmc, mc*g*N.x), (P2, mo*g*N.x)]\n",
    "Torque = [(A, -reibung * sum([me.dot(A.ang_vel_in(N), uv)*uv for uv in A]))] \n",
    "FL = FL1 + Torque\n",
    "       \n",
    "# 3. generalized coordinates\n",
    "q0 = [q1, q2, q3] + [x, y, z]\n",
    "u0 = [u1, u2, u3] + [ux, uy, uz]\n",
    "\n",
    "# 4. set up the equations\n",
    "KM = me.KanesMethod(N, q_ind=q0, u_ind=u0, kd_eqs=kd)\n",
    "(fr, frstar) = KM.kanes_equations(BODY, FL)\n",
    "\n",
    "MM = KM.mass_matrix_full\n",
    "print('MM dynamic symbols', me.find_dynamicsymbols(MM))\n",
    "print('MM free symbols', MM.free_symbols)\n",
    "print('MM contains {} operations'.format(np.sum(np.array([MM[i, j].count_ops(visual=False) \n",
    "            for i in range(MM.shape[0]) for j in range(MM.shape[1])]))), '\\n')\n",
    "\n",
    "force = KM.forcing_full\n",
    "print('force dynamic symbols', me.find_dynamicsymbols(force))\n",
    "print('force free symbols', force.free_symbols)\n",
    "print('force contains {} operations'.format(np.sum(np.array([force[i].count_ops(visual=False) \n",
    "            for i in range(len(force))]))), '\\n')\n",
    "\n",
    "# Rotation of the gyroscope expressed in inertial frame N\n",
    "rot_vel_N = [*[me.dot(A.ang_vel_in(N), uv) for uv in N]]  # get coordinates in N\n",
    "\n",
    "# acceleration of the center of gravity as felt sitting on the gyroscope\n",
    "acc_P2 = P2.vel(N).diff(t, A)\n",
    "acc_dict = {i.diff(t): RHS[j] for j, i in enumerate(q0 + u0)}\n",
    "acc_P2 = acc_P2.subs(acc_dict)\n",
    "print('acc_P2 dynamic symbols', me.find_dynamicsymbols(acc_P2, reference_frame=A), '\\n')"
   ]
  },
  {
   "cell_type": "markdown",
   "metadata": {},
   "source": [
    "The sympy functions are converted to numpy functions, to be able to do numerical calculations. $cse=True$ speeds up the numerical calculations a lot. Maybe not important in this small example, but surely in bigger ones. It needs sympy 1.11.1 or better."
   ]
  },
  {
   "cell_type": "code",
   "execution_count": null,
   "metadata": {},
   "outputs": [],
   "source": [
    "qL = q0 + u0\n",
    "pL = [mc, mo, g, l, r, iXX, iYY, iZZ, reibung]\n",
    "\n",
    "MM_lam = sm.lambdify(qL + pL, MM, cse=True)\n",
    "force_lam = sm.lambdify(qL + pL, force, cse=True)\n",
    "\n",
    "rot_vel_N_lam = sm.lambdify(qL + pL, rot_vel_N, cse=True)\n",
    "acc_P2_lam = sm.lambdify(qL + pL + RHS, [me.dot(acc_P2, uv) for uv in A], cse=True)\n",
    "\n",
    "print(\"It took {:.2f} sec to establish Kane's equations\".format(time.time() - start))"
   ]
  },
  {
   "cell_type": "markdown",
   "metadata": {},
   "source": [
    "**Numerical Integration**\n",
    "\n",
    "Input Data:\n",
    "\n",
    "- $intervall$....the integration runs from 0 to intervall\n",
    "- $frames$.......for the animation this number of steps per second seems to give a good animation\n",
    "- $m_{c1}$..........mass of gyroscope\n",
    "- $_{mo1}$..........mass of 'observer. If it is too small, numerical issues arise. I do not really know why.\n",
    "- $l_1$...........length of the cylindrical gyroscope\n",
    "- $r_1$...........its diameter\n",
    "- $reibung$ ......friction\n",
    "- $q_{11}, q_{21}, q_{31}$ ...generalized coordinate\n",
    "- $u_{11}, u_{21}, u_{31}$ ...generalized angular velocities\n",
    "- $x_1, y_1, z_1$ ......coordinates of the center of the gyroscope\n",
    "- $ux_1, uy_1, uz_1$...the speeds\n",
    "\n",
    "As solve_ivp has information about how it performed, I print this information.\n",
    "\n",
    "It makes sense to give the numerical values of the symbols / dynamic symbols names similar to the names used when setting up Kane's equations, but **avoid** using the **same** ones. This will overwrite the symbols, with sometimes undesired consequences.\n",
    "\n",
    "method = 'Radau' in solve_ivp gives 'smooth' results, but at the expense of longer running time."
   ]
  },
  {
   "cell_type": "code",
   "execution_count": null,
   "metadata": {},
   "outputs": [],
   "source": [
    "# Integrate numerically\n",
    "start1 = time.time()\n",
    "\n",
    "print('Arguments')\n",
    "print('[mc, mo, g, l, r, iXX, iYY, iZZ, reibung]')\n",
    "\n",
    "# Input\n",
    "#========================================================\n",
    "intervall = 25\n",
    "frames = 30\n",
    "mc1 = 1.\n",
    "mo1 = 1.e-10    # if mo1 =approx 0., numerical issues arise, I assume, the mass matrix becomes singular.\n",
    "l1 = 1.\n",
    "r1 = 0.05\n",
    "reibung1 = 0.0\n",
    "disturbance = 0.0025\n",
    "\n",
    "q11, q21, q31 = 0., 0., 0.\n",
    "x1, y1, z1 = 0., 0., 0.\n",
    "ux1, uy1, uz1 = 0., 0., 0.\n",
    "\n",
    "u2 = 10.                      # main rotation around the Y axis\n",
    "u1, u3 = disturbance * u2, disturbance * u2     # small disturbance (rotational speed aroud the X / Z axis)\n",
    "#==========================================================\n",
    "schritte = int(intervall * frames)\n",
    "\n",
    "Iy = 0.5 * mc1 * r1**2               # from the internet for a solid cylinder\n",
    "Ix = mc1/12. * (3.*r1**2 + l1**2)    # dto.\n",
    "\n",
    "# gravity g = 0. The gyroscope is in space somewhere.\n",
    "pL_vals = [mc1, mo1,  0., l1, r1, Ix, Iy, Ix, reibung1]\n",
    "print(pL_vals, '\\n')\n",
    "print('[q1, q2, q3, x, y, z u1, u2, u3, ux, uy, uz]')\n",
    "\n",
    "y0 = [q11, q21, q31, x1, y1, z1, u1, u2, u3, ux1 , uy1, uz1]\n",
    "\n",
    "print(y0, '\\n')\n",
    "\n",
    "times = np.linspace(0, intervall, schritte)\n",
    "t_span = (0., intervall)                        \n",
    "def gradient(t, y, args):\n",
    "    vals = np.concatenate((y, args))\n",
    "    sol = np.linalg.solve(MM_lam(*vals), force_lam(*vals))\n",
    "    return np.array(sol).T[0]\n",
    "\n",
    "resultat1 = solve_ivp(gradient, t_span, y0, t_eval = times, args=(pL_vals,), method='Radau')\n",
    "resultat = resultat1.y.T\n",
    "event_dict = {-1: 'Integration failed', 0: 'Integration finished successfully', 1: 'some termination event'}\n",
    "print(event_dict[resultat1.status])\n",
    "\n",
    "print(\"To numerically integrate an intervall of {} sec the routine cycled {} times and it took {:.3f} sec \"\n",
    "      .format(intervall, resultat1.nfev, time.time() - start1), '\\n')\n",
    "\n",
    "print('resultat shape', resultat.shape, '\\n')"
   ]
  },
  {
   "cell_type": "markdown",
   "metadata": {},
   "source": [
    "Plot the generalized speeds, as seen in A "
   ]
  },
  {
   "cell_type": "code",
   "execution_count": null,
   "metadata": {},
   "outputs": [],
   "source": [
    "# numerical calculation of rhs. Would take long to do it numerically\n",
    "RHS1 = np.zeros((schritte, 12))\n",
    "for i in range(schritte):\n",
    "     RHS1[i, :] = np.linalg.solve(MM_lam(*[resultat[i, j]for j in range(12)], *pL_vals), \n",
    "                          force_lam(*[resultat[i, j] for j in range(12)], *pL_vals)).reshape(12)\n",
    "\n",
    "fig, ax = plt.subplots(figsize=(10,6))\n",
    "for i, j in zip((6, 7, 8), ('X - coordinate', 'Y - coordinate', 'Z - coordinate')):\n",
    "    ax.plot(times, resultat[:, i], label=str(j))\n",
    "    ax.set_title('Rotational speed of the gyroscope as seen in A. \\n As the mass of the observer is small but positive \\n the rotational speeds vary a bit.')\n",
    "    ax.set_ylabel('Radians/time')\n",
    "ax.legend();"
   ]
  },
  {
   "cell_type": "markdown",
   "metadata": {},
   "source": [
    "Plot the generalized speeds as seen by an observer at rest in N. Obviously he sees something different, the tumbling of the gyroscope."
   ]
  },
  {
   "cell_type": "code",
   "execution_count": null,
   "metadata": {},
   "outputs": [],
   "source": [
    "coords = np.zeros((schritte, 3))\n",
    "for i in range(schritte):\n",
    "    coords[i] = rot_vel_N_lam(*[resultat[i, j] for j in range(resultat.shape[1])], *pL_vals)\n",
    "\n",
    "fig, ax = plt.subplots(figsize=(10,6))    \n",
    "for i, j in enumerate(('X-Rotation in N', 'Y-Rotation in N', 'Z-Rotation in N')):\n",
    "    ax.plot(times, coords[:, i], label='{}'.format(j))\n",
    "ax.set_title('Rotational speed of gyroscope as seen in N. \\n This is what an outside observer would see. \\n This shows it is tumbling.')\n",
    "\n",
    "ax.set_ylabel('Radians/time')\n",
    "ax.legend();"
   ]
  },
  {
   "cell_type": "markdown",
   "metadata": {},
   "source": [
    "Plot the acceleration felt by on observer sitting on the gyroscope"
   ]
  },
  {
   "cell_type": "code",
   "execution_count": null,
   "metadata": {},
   "outputs": [],
   "source": [
    "coords = np.zeros((schritte, 3))\n",
    "for i in range(schritte):\n",
    "    coords[i] = acc_P2_lam(*[resultat[i, j] for j in range(resultat.shape[1])], *pL_vals, *[RHS1[i, k] \n",
    "                                                    for k in range(12)])\n",
    "\n",
    "fig, ax = plt.subplots(figsize=(10,6))    \n",
    "for i, j in enumerate(('X acc in A', 'Y acc in A', 'Z acc in A')):\n",
    "    ax.plot(times, coords[:, i], label='{}'.format(j))\n",
    "ax.set_ylabel('Acceleration of observer expressed in body frame A')\n",
    "ax.set_title('Acceleration felt by an observer sitting on the gyroscope. \\n As it is not constant, he concludes there is tumbling going on.')\n",
    "ax.legend();"
   ]
  },
  {
   "cell_type": "markdown",
   "metadata": {},
   "source": [
    "**animation using pythreejs**.\n",
    "\n",
    "I simply copied from Jason Moore's lecture and adapted it to my needs here.\n",
    "\n",
    "This part is to get the TA matrices. A is the coordinate system fixed to the body, to be expressed in\n",
    "the inertial frame N.\n",
    "\n",
    "TAc / TAo are 4 x 4 martices. The upper left 3 x 3 submatrix holds the position of the body, described by the body fixed frame. The location of the origin of the body is stored in the lower left 1 x 3 submatrix.\n",
    "\n",
    "NOTE: the 'reference frame' for pythreejs seems to be:\n",
    "X - axis downwards, color red\n",
    "Y - axis to the right, color green (hence:)\n",
    "Z - axis pointing to the observer, color blue\n"
   ]
  },
  {
   "cell_type": "code",
   "execution_count": null,
   "metadata": {},
   "outputs": [],
   "source": [
    "TAc = sm.eye(4)\n",
    "TAc[:3, :3] = A.dcm(N)  # this contains the information about the rotation of the body\n",
    "\n",
    "# this contains the information about the location of the 'center' of the body\n",
    "# I want the motion without the drift, present if mo != 0\n",
    "TAc[3, :3] = sm.transpose(P0.pos_from(P0).to_matrix(N)) \n",
    "TAc = TAc.reshape(16, 1)\n",
    "\n",
    "TAo = sm.eye(4)\n",
    "TAo[:3, :3] = A.dcm(N)\n",
    "TAo[3, :3] = sm.transpose(P2.pos_from(Dmc).to_matrix(N))\n",
    "TAo = TAo.reshape(16, 1)\n",
    "\n",
    "TA = [TAc, TAo]\n",
    "TA_lam = sm.lambdify(qL + pL, TA)   # Lambdification of TA"
   ]
  },
  {
   "cell_type": "markdown",
   "metadata": {},
   "source": [
    "Create the TAs, containing 'one TA' for each time step. resultat contains the results of the numeric integration, times contains the points in time, where the numeric integration was evaluated"
   ]
  },
  {
   "cell_type": "code",
   "execution_count": null,
   "metadata": {},
   "outputs": [],
   "source": [
    "TAs = []\n",
    "\n",
    "for k in range(resultat.shape[0]):\n",
    "    zeit = times[k] \n",
    "    TAi = TA_lam(*[resultat[k, l] for l in range(resultat.shape[1])], *pL_vals)\n",
    "    TAs.append([TAi[0].squeeze().tolist(), TAi[1].squeeze().tolist() ])"
   ]
  },
  {
   "cell_type": "markdown",
   "metadata": {},
   "source": [
    "Define the bodies of the gyroscope and the observer"
   ]
  },
  {
   "cell_type": "code",
   "execution_count": null,
   "metadata": {},
   "outputs": [],
   "source": [
    "body_geom_C = p3js.CylinderGeometry(radiusTop=pL_vals[4], radiusBottom=pL_vals[4], height=pL_vals[3], radialSegments=6)\n",
    "body_material_C = p3js.MeshStandardMaterial(color='orange', wireframe=False)\n",
    "body_mesh_C = p3js.Mesh(geometry=body_geom_C, material=body_material_C, name='cylinder')\n",
    "\n",
    "# locate the body in 3D space and add the coordinate system of the body\n",
    "body_mesh_C.matrixAutoUpdate = False\n",
    "body_mesh_C.add(p3js.AxesHelper(pL_vals[3]/1.))\n",
    "body_mesh_C.matrix = TAs[0][0]           # starting point of the animation\n",
    "\n",
    "body_geom_O = p3js.SphereGeometry(radius=pL_vals[4]/2.5)\n",
    "body_material_O = p3js.MeshStandardMaterial(color='blue', wireframe=False)\n",
    "body_mesh_O = p3js.Mesh(geometry=body_geom_O, material=body_material_O, name='observer')\n",
    "\n",
    "# locate the body in 3D space and add the coordinate system of the body\n",
    "body_mesh_O.matrixAutoUpdate = False\n",
    "body_mesh_O.add(p3js.AxesHelper(0.05))\n",
    "body_mesh_O.matrix = TAs[0][1]           # starting point of the animation"
   ]
  },
  {
   "cell_type": "markdown",
   "metadata": {},
   "source": [
    "Create the 'environment'. All the parameters are by trial and error, I do not really know whatthey mean."
   ]
  },
  {
   "cell_type": "code",
   "execution_count": null,
   "metadata": {},
   "outputs": [],
   "source": [
    "view_width = 800\n",
    "view_height = 800\n",
    "\n",
    "camera = p3js.PerspectiveCamera(position=[0., 0.0, 4.],\n",
    "                                up=[-1.0, 0.0, 0.0],\n",
    "                                aspect=view_width/view_height)\n",
    "\n",
    "key_light = p3js.DirectionalLight(position=[0, 10, 10])\n",
    "ambient_light = p3js.AmbientLight()\n",
    "\n",
    "axes = p3js.AxesHelper()\n",
    "\n",
    "children = [body_mesh_C, body_mesh_O, axes, camera, key_light, ambient_light]\n",
    "\n",
    "scene = p3js.Scene(children=children)\n",
    "\n",
    "controller = p3js.OrbitControls(controlling=camera)\n",
    "renderer = p3js.Renderer(camera=camera, scene=scene, controls=[controller],\n",
    "                         width=view_width, height=view_height)"
   ]
  },
  {
   "cell_type": "markdown",
   "metadata": {},
   "source": [
    "Create the 'action'"
   ]
  },
  {
   "cell_type": "code",
   "execution_count": null,
   "metadata": {},
   "outputs": [],
   "source": [
    "BB = [TAs[l][0] for l in range(len(TAs))]\n",
    "track_C = p3js.VectorKeyframeTrack(\n",
    "    name=\"scene/cylinder.matrix\",\n",
    "    times=times,\n",
    "    values=BB)\n",
    "\n",
    "BB = [TAs[l][1] for l in range(len(TAs))]\n",
    "track_O = p3js.VectorKeyframeTrack(\n",
    "    name=\"scene/observer.matrix\",\n",
    "    times=times,\n",
    "    values=BB)\n",
    "\n",
    "tracks = [track_C, track_O]\n",
    "duration = times[-1] - times[0]\n",
    "clip = p3js.AnimationClip(tracks=tracks, duration=duration)\n",
    "action = p3js.AnimationAction(p3js.AnimationMixer(scene), clip, scene)\n",
    "print('it took {:.3f} sec to finish the program'.format(time.time() - start))\n",
    "renderer"
   ]
  },
  {
   "cell_type": "markdown",
   "metadata": {},
   "source": [
    "This put the action in motion"
   ]
  },
  {
   "cell_type": "code",
   "execution_count": null,
   "metadata": {
    "scrolled": false
   },
   "outputs": [],
   "source": [
    "action"
   ]
  }
 ],
 "metadata": {
  "kernelspec": {
   "display_name": "Python 3 (ipykernel)",
   "language": "python",
   "name": "python3"
  },
  "language_info": {
   "codemirror_mode": {
    "name": "ipython",
    "version": 3
   },
   "file_extension": ".py",
   "mimetype": "text/x-python",
   "name": "python",
   "nbconvert_exporter": "python",
   "pygments_lexer": "ipython3",
   "version": "3.8.16"
  },
  "latex_envs": {
   "LaTeX_envs_menu_present": true,
   "autoclose": false,
   "autocomplete": true,
   "bibliofile": "biblio.bib",
   "cite_by": "apalike",
   "current_citInitial": 1,
   "eqLabelWithNumbers": true,
   "eqNumInitial": 1,
   "hotkeys": {
    "equation": "Ctrl-E",
    "itemize": "Ctrl-I"
   },
   "labels_anchors": false,
   "latex_user_defs": false,
   "report_style_numbering": false,
   "user_envs_cfg": false
  }
 },
 "nbformat": 4,
 "nbformat_minor": 2
}
