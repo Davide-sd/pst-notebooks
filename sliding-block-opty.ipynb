{
 "cells": [
  {
   "cell_type": "markdown",
   "id": "0a527636",
   "metadata": {},
   "source": [
    "A particle of mass m moves along a street, a curve in $\\R^2$\\\n",
    "A force F acts on the particle, in the direction of the tangent at the street at the point where the particle is.\\\n",
    "Gravity points in the negative Y direction.\\\n",
    "A speed dependent friction also may act in the same direction.\\\n",
    "The goal is to move the particle from ist rest location, x(0) = 0  to its final location x(duration) = $x_1$,  with the objective: $\\int_0^{\\text{duration}} F(k)^2 \\, dk$ = minimal."
   ]
  },
  {
   "cell_type": "code",
   "execution_count": null,
   "id": "f7cc216b",
   "metadata": {},
   "outputs": [],
   "source": [
    "import sympy.physics.mechanics as me\n",
    "from collections import OrderedDict\n",
    "import time\n",
    "import numpy as np\n",
    "import sympy as sm\n",
    "from opty.direct_collocation import Problem\n",
    "#from opty.utils import building_docs\n",
    "import matplotlib.pyplot as plt\n",
    "import matplotlib\n",
    "#import matplotlib.animation as animation\n",
    "from IPython.display import HTML\n",
    "matplotlib.rcParams['animation.embed_limit'] = 2**128\n",
    "from matplotlib.animation import FuncAnimation"
   ]
  },
  {
   "cell_type": "markdown",
   "id": "8a5b475d",
   "metadata": {},
   "source": [
    "Defines the shape of the street (strasse = German for street)\\\n",
    "One is a single hump function, the other one a double hump function."
   ]
  },
  {
   "cell_type": "code",
   "execution_count": null,
   "id": "bc6018f9",
   "metadata": {},
   "outputs": [],
   "source": [
    "def strasse(x, a, b):\n",
    "    return a * x**2 * sm.exp((b - x))  #a * sm.exp(x**2 * (1 - x**2)) # "
   ]
  },
  {
   "cell_type": "markdown",
   "id": "090b386b",
   "metadata": {},
   "source": [
    "Set up **Kane's equations of motion**\\\n",
    "The control force F (and a speed dependent friction, if so desired) act in the direction of the tanget to the street at the point where the particle is at that moment.\\\n",
    "For the angle of the tangent with the X axis this holds: $\\tan(\\alpha) = \\frac{d}{dx} strasse(x, a, b) \\longrightarrow \\alpha = \\tan^{-1}(\\frac{d}{dx} strasse(x, a, b))$\\\n",
    "So, the force in the N.x direction is $F_x = F\\cdot \\cos(\\alpha)$, in the N.y direction it is $F_x = F\\cdot \\cos(\\alpha)$"
   ]
  },
  {
   "cell_type": "code",
   "execution_count": null,
   "id": "c665b199",
   "metadata": {},
   "outputs": [],
   "source": [
    "start = time.time()\n",
    "\n",
    "import sympy.physics.mechanics as me\n",
    "import sympy as sm\n",
    "\n",
    "N = me.ReferenceFrame('N')                                                                                           \n",
    "O = me.Point('O')                                                                                                         \n",
    "O.set_vel(N, 0)                                                                                                        \n",
    "t = me.dynamicsymbols._t\n",
    "\n",
    "\n",
    "P0 = me.Point('P0')                                                             \n",
    "x = me.dynamicsymbols('x')    \n",
    "ux = me.dynamicsymbols('u_x')                                                                                                                                                    \n",
    "F = me.dynamicsymbols('F')                                        # Force applied to the particle                                                  \n",
    "\n",
    "m, g, reibung = sm.symbols('m, g, reibung')     \n",
    "a, b = sm.symbols('a b')                                                                         \n",
    "\n",
    "\n",
    "P0.set_pos(O, x * N.x + strasse(x, a, b) * N.y)\n",
    "P0.set_vel(N, ux * N.x + strasse(x, a, b).diff(x)*ux * N.y)\n",
    "BODY = [me.Particle('P0', P0, m)]\n",
    "\n",
    "# The control force and the friction are acting in the direction of the tangent at the street at the point whre the particle is.\n",
    "alpha = sm.atan(strasse(x, a, b).diff(x))\n",
    "FL = [(P0, -m*g*N.y + F*(sm.cos(alpha)*N.x + sm.sin(alpha)*N.y) - reibung*ux*(sm.cos(alpha)*N.x + sm.sin(alpha)*N.y))]     \n",
    "\n",
    "kd = sm.Matrix([ux - x.diff(t)])      \n",
    "\n",
    "q_ind = [x]\n",
    "u_ind = [ux]\n",
    " \n",
    "KM = me.KanesMethod(N, q_ind=q_ind, u_ind=u_ind, kd_eqs=kd)\n",
    "(fr, frstar) = KM.kanes_equations(BODY, FL)\n",
    "EOM = kd.col_join(fr + frstar) \n",
    "print('EOM DS', me.find_dynamicsymbols(EOM))\n",
    "print('EOM FS', EOM.free_symbols)\n",
    "EOM.simplify()\n",
    "EOM"
   ]
  },
  {
   "cell_type": "markdown",
   "id": "e0685c32",
   "metadata": {},
   "source": [
    "Set up the machinery for **opty**"
   ]
  },
  {
   "cell_type": "code",
   "execution_count": null,
   "id": "cc7e7050",
   "metadata": {},
   "outputs": [],
   "source": [
    "state_symbols = tuple((x, ux))\n",
    "laenge = len(state_symbols)\n",
    "constant_symbols = (m, g, reibung, a, b)\n",
    "specified_symbols = (F,)\n",
    "\n",
    "duration  = 7.                                              # The duration of the simulation.\n",
    "num_nodes =  1000                                           # The number of nodes to use in the direct collocation problem.\n",
    "\n",
    "interval_value = duration / (num_nodes - 1)\n",
    "\n",
    "# Specify the known system parameters.\n",
    "par_map = OrderedDict()\n",
    "par_map[m]       = 1.0                                      # Mass of the block\n",
    "par_map[g]       = 9.81                                     # gravity\n",
    "par_map[reibung] = 0.                                       # Friction coefficient between the block and the ground\n",
    "par_map[a]       = 1.                                       # Parameter of the street\n",
    "par_map[b]       = 2.                                       # Parameter of the street   \n",
    "\n",
    "# Specify the objective function and it's gradient.\n",
    "def obj(free): \n",
    "    \"\"\"Minimize the sum of the squares of the control torques.\"\"\"\n",
    "    Fx = free[laenge * num_nodes: (laenge + 1) * num_nodes] \n",
    "    return interval_value * np.sum(Fx**2)\n",
    "\n",
    "def obj_grad(free):\n",
    "    grad = np.zeros_like(free)\n",
    "    grad[laenge * num_nodes: (laenge + 1) * num_nodes]       = 2.0 * interval_value * free[laenge * num_nodes: (laenge + 1) * num_nodes]\n",
    "    return grad"
   ]
  },
  {
   "cell_type": "markdown",
   "id": "d706a090",
   "metadata": {},
   "source": [
    "Create an **optimization problem** and solve it\\\n",
    "A solution is found easily, but one has to play around with the bounds a little bit.\\\n",
    "For example, unless I set {ux: (0, 1000)} the block may move to the crest of the street, stay there, moveback to its starting point and the on to its final point. Obviously not optimal."
   ]
  },
  {
   "cell_type": "code",
   "execution_count": null,
   "id": "079117a8",
   "metadata": {},
   "outputs": [],
   "source": [
    "# Create an optimization problem.\n",
    "# This portion is copied from Timo's code\n",
    "t0, tf = 0.0, duration                    # The initial and final times\n",
    "\n",
    "#======================================================================================================\n",
    "methode = 'backward euler'  # The integration method to use. backward euler or midpoint are the choices\n",
    "#======================================================================================================\n",
    "\n",
    "initial_guess = np.ones((len(state_symbols) + len(specified_symbols)) * num_nodes) * 0.01\n",
    "\n",
    "# Timo's comments:\n",
    "# Opty want instance constraints, basically things like `q2(2.0) - 3.141` to specify that q2 should be 3.141 when t=2.0\n",
    "# I personally like to rewrite it to initial state and final state constraints and then translate them into the set of equations opty wants.    \n",
    "initial_state_constraints = {\n",
    "                            x: 0.,\n",
    "                            ux: 0.\n",
    "                            }\n",
    "\n",
    "\n",
    "final_state_constraints    = {\n",
    "                             x: 10.,\n",
    "                             ux: 0.,\n",
    "                             }    \n",
    "    \n",
    "instance_constraints = tuple(xi.subs({t: t0}) - xi_val for xi, xi_val in initial_state_constraints.items()) + tuple(xi.subs({t: tf}) - xi_val for xi, xi_val in final_state_constraints.items())\n",
    "print('initial constraints:', instance_constraints)\n",
    "bounds = {F: (-20., 20.), x: (initial_state_constraints[x], final_state_constraints[x]), ux: (0., 1000.)}\n",
    "               \n",
    "prob = Problem(obj, obj_grad, EOM, state_symbols, num_nodes, interval_value,\n",
    "        known_parameter_map=par_map,\n",
    "        instance_constraints=instance_constraints,\n",
    "        bounds=bounds,\n",
    "        integration_method=methode)\n",
    "\n",
    "prob.add_option('max_iter', 3000)           # default is 3000\n",
    "# Find the optimal solution.\n",
    "solution, info = prob.solve(initial_guess)\n",
    "print('message from optimizer:', info['status_msg'])\n",
    "print(f'objective value {obj(solution):,.1f} \\n')\n",
    "prob.plot_objective_value()"
   ]
  },
  {
   "cell_type": "markdown",
   "id": "6fb77b13",
   "metadata": {},
   "source": [
    "Plot location and speed of the particle, and also the force acting on it."
   ]
  },
  {
   "cell_type": "code",
   "execution_count": null,
   "id": "a6f0398b",
   "metadata": {},
   "outputs": [],
   "source": [
    "anzahl = len(state_symbols) + len(specified_symbols)\n",
    "fig, ax = plt.subplots(anzahl, 1, figsize=(10, 3*anzahl), sharex=True)\n",
    "times = np.linspace(0.0, duration, num=num_nodes)\n",
    "\n",
    "for i, j in enumerate(state_symbols + specified_symbols):\n",
    "    ax[i].plot(times, solution[i * num_nodes:(i + 1) * num_nodes])\n",
    "    ax[i].grid()\n",
    "    ax[i].set_ylabel(str(j))\n",
    "ax[-1].set_xlabel('time')\n",
    "ax[0]. set_title('Generalized coordinates and speeds')\n",
    "ax[-1]. set_title('Control force');"
   ]
  },
  {
   "cell_type": "markdown",
   "id": "c384f66b",
   "metadata": {},
   "source": [
    "aminate the contraption"
   ]
  },
  {
   "cell_type": "code",
   "execution_count": null,
   "id": "5546cec9",
   "metadata": {},
   "outputs": [],
   "source": [
    "strasse1 = strasse(x, a, b)\n",
    "strasse_lam = sm.lambdify((x, a, b), strasse1, cse=True)    \n",
    "\n",
    "P0_x = solution[:num_nodes]\n",
    "P0_y = strasse_lam(P0_x, par_map[a], par_map[b])\n",
    "\n",
    "\n",
    "# needed to give the picture the right size.\n",
    "xmin = np.min(P0_x)\n",
    "xmax = np.max(P0_x)\n",
    "ymin = np.min(P0_y)\n",
    "ymax = np.max(P0_y)\n",
    "\n",
    "\n",
    "fig = plt.figure(figsize=(8, 8))\n",
    "ax = fig.add_subplot(111)\n",
    "ax.set_xlim(xmin-1, xmax + 1.)\n",
    "ax.set_ylim(ymin-1, ymax + 1.)\n",
    "\n",
    "ax.grid()\n",
    "strasse_x = np.linspace(xmin, xmax, 100)\n",
    "ax.plot(strasse_x, strasse_lam(strasse_x, par_map[a], par_map[b]), color='black', linestyle='-', linewidth=1)   # the ground\n",
    "ax.axvline(initial_state_constraints[x], color='r', linestyle='--', linewidth=1)                                # the initial position\n",
    "ax.axvline(final_state_constraints[x], color='green', linestyle='--', linewidth=1)                              # the final position\n",
    "\n",
    "# Initialize the block\n",
    "line1, = ax.plot([], [], color='blue', marker='o', markersize=12)                                               # the sliding block\n",
    "\n",
    "# Function to update the plot for each animation frame\n",
    "def update(frame):\n",
    "    message = (f'running time {times[frame]:.2f} sec \\n the red line is the initial position, the green line is the final position')\n",
    "    ax.set_title(message, fontsize=15)\n",
    "    \n",
    "    line1.set_data([P0_x[frame]], [P0_y[frame]])\n",
    "\n",
    "    return line1,\n",
    "\n",
    "# Set labels and legend\n",
    "ax.set_xlabel('X-axis')\n",
    "ax.set_ylabel('Y-axis')\n",
    "\n",
    "# Create the animation\n",
    "animation = FuncAnimation(fig, update, frames=range(len(P0_x)), interval=2000*np.max(times) / num_nodes, blit=True)\n",
    "plt.close(fig)  # Prevents the final image from being displayed directly below the animation\n",
    "# Show the plot\n",
    "display(HTML(animation.to_jshtml()))\n",
    "print(f'it took {time.time()-start:.1f} seconds to run the code.')"
   ]
  }
 ],
 "metadata": {
  "kernelspec": {
   "display_name": "Python 3 (ipykernel)",
   "language": "python",
   "name": "python3"
  },
  "language_info": {
   "codemirror_mode": {
    "name": "ipython",
    "version": 3
   },
   "file_extension": ".py",
   "mimetype": "text/x-python",
   "name": "python",
   "nbconvert_exporter": "python",
   "pygments_lexer": "ipython3",
   "version": "3.11.5"
  }
 },
 "nbformat": 4,
 "nbformat_minor": 5
}
